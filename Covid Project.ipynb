{
 "cells": [
  {
   "cell_type": "code",
   "execution_count": 1,
   "metadata": {},
   "outputs": [
    {
     "ename": "ModuleNotFoundError",
     "evalue": "No module named 'Config2'",
     "output_type": "error",
     "traceback": [
      "\u001b[1;31m---------------------------------------------------------------------------\u001b[0m",
      "\u001b[1;31mModuleNotFoundError\u001b[0m                       Traceback (most recent call last)",
      "\u001b[1;32m<ipython-input-1-345f98714762>\u001b[0m in \u001b[0;36m<module>\u001b[1;34m\u001b[0m\n\u001b[0;32m      1\u001b[0m \u001b[1;32mimport\u001b[0m \u001b[0mpandas\u001b[0m \u001b[1;32mas\u001b[0m \u001b[0mpd\u001b[0m\u001b[1;33m\u001b[0m\u001b[1;33m\u001b[0m\u001b[0m\n\u001b[0;32m      2\u001b[0m \u001b[1;32mfrom\u001b[0m \u001b[0msqlalchemy\u001b[0m \u001b[1;32mimport\u001b[0m \u001b[0mcreate_engine\u001b[0m\u001b[1;33m\u001b[0m\u001b[1;33m\u001b[0m\u001b[0m\n\u001b[1;32m----> 3\u001b[1;33m \u001b[1;32mfrom\u001b[0m \u001b[0mConfig2\u001b[0m \u001b[1;32mimport\u001b[0m \u001b[0muser\u001b[0m\u001b[1;33m,\u001b[0m\u001b[0mpassword\u001b[0m\u001b[1;33m\u001b[0m\u001b[1;33m\u001b[0m\u001b[0m\n\u001b[0m",
      "\u001b[1;31mModuleNotFoundError\u001b[0m: No module named 'Config2'"
     ]
    }
   ],
   "source": [
    "import pandas as pd\n",
    "from sqlalchemy import create_engine\n",
    "from Config2 import user,password"
   ]
  },
  {
   "cell_type": "code",
   "execution_count": null,
   "metadata": {},
   "outputs": [],
   "source": []
  },
  {
   "cell_type": "code",
   "execution_count": 30,
   "metadata": {},
   "outputs": [
    {
     "name": "stdout",
     "output_type": "stream",
     "text": [
      "           geo_type         region transportation_type  2020-01-13  \\\n",
      "0    country/region        Albania             driving         100   \n",
      "1    country/region        Albania             walking         100   \n",
      "2    country/region      Argentina             driving         100   \n",
      "3    country/region      Argentina             walking         100   \n",
      "4    country/region      Australia             driving         100   \n",
      "..              ...            ...                 ...         ...   \n",
      "390            city  Washington DC             transit         100   \n",
      "391            city  Washington DC             walking         100   \n",
      "392            city         Zurich             driving         100   \n",
      "393            city         Zurich             transit         100   \n",
      "394            city         Zurich             walking         100   \n",
      "\n",
      "     2020-01-14  2020-01-15  2020-01-16  2020-01-17  2020-01-18  2020-01-19  \\\n",
      "0         95.30      101.43       97.20      103.55      112.67      104.83   \n",
      "1        100.68       98.93       98.46      100.85      100.13       82.13   \n",
      "2         97.07      102.45      111.21      118.45      124.01       95.44   \n",
      "3         95.11      101.37      112.67      116.72      114.14       84.54   \n",
      "4        102.98      104.21      108.63      109.08       89.00       99.35   \n",
      "..          ...         ...         ...         ...         ...         ...   \n",
      "390      100.78      103.92      105.02      112.26       96.01       87.76   \n",
      "391       99.07      109.61      104.16      123.16      119.71      106.28   \n",
      "392      102.38      110.84      105.48      113.83      109.67      102.03   \n",
      "393      101.51      108.93       97.87      103.91       98.50       93.83   \n",
      "394      106.27      116.73      115.31      118.22      123.39       82.43   \n",
      "\n",
      "     ...  2020-04-07  2020-04-08  2020-04-09  2020-04-10  2020-04-11  \\\n",
      "0    ...       26.03       26.43       26.70       26.32       25.47   \n",
      "1    ...       25.80       29.81       28.96       27.29       27.63   \n",
      "2    ...       18.55       19.95       19.80       16.80       19.40   \n",
      "3    ...       13.49       15.51       14.65       13.58       15.75   \n",
      "4    ...       55.01       59.24       33.19       36.00       26.95   \n",
      "..   ...         ...         ...         ...         ...         ...   \n",
      "390  ...       17.59       18.79       16.92       17.76       16.99   \n",
      "391  ...       35.97       43.18       36.12       37.50       44.63   \n",
      "392  ...       69.43       71.98       69.31       61.38       63.78   \n",
      "393  ...       31.39       32.01       31.32       31.35       29.18   \n",
      "394  ...       67.26       70.26       69.66       70.73       71.63   \n",
      "\n",
      "     2020-04-12  2020-04-13  2020-04-14  2020-04-15  2020-04-16  \n",
      "0         24.89       32.64       31.43       30.67       30.00  \n",
      "1         29.59       35.52       38.08       35.48       39.15  \n",
      "2         12.89       21.10       22.29       23.55       24.40  \n",
      "3         10.45       16.35       16.66       17.42       18.18  \n",
      "4         31.72       53.14       55.91       56.56       58.77  \n",
      "..          ...         ...         ...         ...         ...  \n",
      "390       14.23       17.01       17.37       17.02       17.10  \n",
      "391       32.84       33.58       37.56       38.69       37.76  \n",
      "392       54.97       67.09       72.52       74.89       77.13  \n",
      "393       31.49       32.90       35.71       35.68       33.65  \n",
      "394       65.61       70.17       62.05       67.81       71.41  \n",
      "\n",
      "[395 rows x 98 columns]\n"
     ]
    }
   ],
   "source": [
    "\n",
    "df=pd.read_csv(\"C:\\\\Users\\\\samantha.ettinger\\\\Downloads\\\\applemobilitytrends-2020-04-16.csv\")\n",
    "print(df)"
   ]
  },
  {
   "cell_type": "code",
   "execution_count": 31,
   "metadata": {},
   "outputs": [
    {
     "data": {
      "text/html": [
       "<div>\n",
       "<style scoped>\n",
       "    .dataframe tbody tr th:only-of-type {\n",
       "        vertical-align: middle;\n",
       "    }\n",
       "\n",
       "    .dataframe tbody tr th {\n",
       "        vertical-align: top;\n",
       "    }\n",
       "\n",
       "    .dataframe thead th {\n",
       "        text-align: right;\n",
       "    }\n",
       "</style>\n",
       "<table border=\"1\" class=\"dataframe\">\n",
       "  <thead>\n",
       "    <tr style=\"text-align: right;\">\n",
       "      <th></th>\n",
       "      <th>geo_type</th>\n",
       "      <th>region</th>\n",
       "      <th>transportation_type</th>\n",
       "      <th>2020-01-13</th>\n",
       "      <th>2020-01-14</th>\n",
       "      <th>2020-01-15</th>\n",
       "      <th>2020-01-16</th>\n",
       "      <th>2020-01-17</th>\n",
       "      <th>2020-01-18</th>\n",
       "      <th>2020-01-19</th>\n",
       "      <th>...</th>\n",
       "      <th>2020-04-07</th>\n",
       "      <th>2020-04-08</th>\n",
       "      <th>2020-04-09</th>\n",
       "      <th>2020-04-10</th>\n",
       "      <th>2020-04-11</th>\n",
       "      <th>2020-04-12</th>\n",
       "      <th>2020-04-13</th>\n",
       "      <th>2020-04-14</th>\n",
       "      <th>2020-04-15</th>\n",
       "      <th>2020-04-16</th>\n",
       "    </tr>\n",
       "  </thead>\n",
       "  <tbody>\n",
       "    <tr>\n",
       "      <td>0</td>\n",
       "      <td>country/region</td>\n",
       "      <td>Albania</td>\n",
       "      <td>driving</td>\n",
       "      <td>100</td>\n",
       "      <td>95.30</td>\n",
       "      <td>101.43</td>\n",
       "      <td>97.20</td>\n",
       "      <td>103.55</td>\n",
       "      <td>112.67</td>\n",
       "      <td>104.83</td>\n",
       "      <td>...</td>\n",
       "      <td>26.03</td>\n",
       "      <td>26.43</td>\n",
       "      <td>26.70</td>\n",
       "      <td>26.32</td>\n",
       "      <td>25.47</td>\n",
       "      <td>24.89</td>\n",
       "      <td>32.64</td>\n",
       "      <td>31.43</td>\n",
       "      <td>30.67</td>\n",
       "      <td>30.00</td>\n",
       "    </tr>\n",
       "    <tr>\n",
       "      <td>1</td>\n",
       "      <td>country/region</td>\n",
       "      <td>Albania</td>\n",
       "      <td>walking</td>\n",
       "      <td>100</td>\n",
       "      <td>100.68</td>\n",
       "      <td>98.93</td>\n",
       "      <td>98.46</td>\n",
       "      <td>100.85</td>\n",
       "      <td>100.13</td>\n",
       "      <td>82.13</td>\n",
       "      <td>...</td>\n",
       "      <td>25.80</td>\n",
       "      <td>29.81</td>\n",
       "      <td>28.96</td>\n",
       "      <td>27.29</td>\n",
       "      <td>27.63</td>\n",
       "      <td>29.59</td>\n",
       "      <td>35.52</td>\n",
       "      <td>38.08</td>\n",
       "      <td>35.48</td>\n",
       "      <td>39.15</td>\n",
       "    </tr>\n",
       "    <tr>\n",
       "      <td>2</td>\n",
       "      <td>country/region</td>\n",
       "      <td>Argentina</td>\n",
       "      <td>driving</td>\n",
       "      <td>100</td>\n",
       "      <td>97.07</td>\n",
       "      <td>102.45</td>\n",
       "      <td>111.21</td>\n",
       "      <td>118.45</td>\n",
       "      <td>124.01</td>\n",
       "      <td>95.44</td>\n",
       "      <td>...</td>\n",
       "      <td>18.55</td>\n",
       "      <td>19.95</td>\n",
       "      <td>19.80</td>\n",
       "      <td>16.80</td>\n",
       "      <td>19.40</td>\n",
       "      <td>12.89</td>\n",
       "      <td>21.10</td>\n",
       "      <td>22.29</td>\n",
       "      <td>23.55</td>\n",
       "      <td>24.40</td>\n",
       "    </tr>\n",
       "    <tr>\n",
       "      <td>3</td>\n",
       "      <td>country/region</td>\n",
       "      <td>Argentina</td>\n",
       "      <td>walking</td>\n",
       "      <td>100</td>\n",
       "      <td>95.11</td>\n",
       "      <td>101.37</td>\n",
       "      <td>112.67</td>\n",
       "      <td>116.72</td>\n",
       "      <td>114.14</td>\n",
       "      <td>84.54</td>\n",
       "      <td>...</td>\n",
       "      <td>13.49</td>\n",
       "      <td>15.51</td>\n",
       "      <td>14.65</td>\n",
       "      <td>13.58</td>\n",
       "      <td>15.75</td>\n",
       "      <td>10.45</td>\n",
       "      <td>16.35</td>\n",
       "      <td>16.66</td>\n",
       "      <td>17.42</td>\n",
       "      <td>18.18</td>\n",
       "    </tr>\n",
       "    <tr>\n",
       "      <td>4</td>\n",
       "      <td>country/region</td>\n",
       "      <td>Australia</td>\n",
       "      <td>driving</td>\n",
       "      <td>100</td>\n",
       "      <td>102.98</td>\n",
       "      <td>104.21</td>\n",
       "      <td>108.63</td>\n",
       "      <td>109.08</td>\n",
       "      <td>89.00</td>\n",
       "      <td>99.35</td>\n",
       "      <td>...</td>\n",
       "      <td>55.01</td>\n",
       "      <td>59.24</td>\n",
       "      <td>33.19</td>\n",
       "      <td>36.00</td>\n",
       "      <td>26.95</td>\n",
       "      <td>31.72</td>\n",
       "      <td>53.14</td>\n",
       "      <td>55.91</td>\n",
       "      <td>56.56</td>\n",
       "      <td>58.77</td>\n",
       "    </tr>\n",
       "  </tbody>\n",
       "</table>\n",
       "<p>5 rows × 98 columns</p>\n",
       "</div>"
      ],
      "text/plain": [
       "         geo_type     region transportation_type  2020-01-13  2020-01-14  \\\n",
       "0  country/region    Albania             driving         100       95.30   \n",
       "1  country/region    Albania             walking         100      100.68   \n",
       "2  country/region  Argentina             driving         100       97.07   \n",
       "3  country/region  Argentina             walking         100       95.11   \n",
       "4  country/region  Australia             driving         100      102.98   \n",
       "\n",
       "   2020-01-15  2020-01-16  2020-01-17  2020-01-18  2020-01-19  ...  \\\n",
       "0      101.43       97.20      103.55      112.67      104.83  ...   \n",
       "1       98.93       98.46      100.85      100.13       82.13  ...   \n",
       "2      102.45      111.21      118.45      124.01       95.44  ...   \n",
       "3      101.37      112.67      116.72      114.14       84.54  ...   \n",
       "4      104.21      108.63      109.08       89.00       99.35  ...   \n",
       "\n",
       "   2020-04-07  2020-04-08  2020-04-09  2020-04-10  2020-04-11  2020-04-12  \\\n",
       "0       26.03       26.43       26.70       26.32       25.47       24.89   \n",
       "1       25.80       29.81       28.96       27.29       27.63       29.59   \n",
       "2       18.55       19.95       19.80       16.80       19.40       12.89   \n",
       "3       13.49       15.51       14.65       13.58       15.75       10.45   \n",
       "4       55.01       59.24       33.19       36.00       26.95       31.72   \n",
       "\n",
       "   2020-04-13  2020-04-14  2020-04-15  2020-04-16  \n",
       "0       32.64       31.43       30.67       30.00  \n",
       "1       35.52       38.08       35.48       39.15  \n",
       "2       21.10       22.29       23.55       24.40  \n",
       "3       16.35       16.66       17.42       18.18  \n",
       "4       53.14       55.91       56.56       58.77  \n",
       "\n",
       "[5 rows x 98 columns]"
      ]
     },
     "execution_count": 31,
     "metadata": {},
     "output_type": "execute_result"
    }
   ],
   "source": [
    "df.head()"
   ]
  },
  {
   "cell_type": "code",
   "execution_count": 32,
   "metadata": {},
   "outputs": [
    {
     "data": {
      "text/plain": [
       "Index(['2020-01-13', '2020-01-14', '2020-01-15', '2020-01-16', '2020-01-17',\n",
       "       '2020-01-18', '2020-01-19', '2020-01-20', '2020-01-21', '2020-01-22',\n",
       "       '2020-01-23', '2020-01-24', '2020-01-25', '2020-01-26', '2020-01-27',\n",
       "       '2020-01-28', '2020-01-29', '2020-01-30', '2020-01-31', '2020-02-01',\n",
       "       '2020-02-02', '2020-02-03', '2020-02-04', '2020-02-05', '2020-02-06',\n",
       "       '2020-02-07', '2020-02-08', '2020-02-09', '2020-02-10', '2020-02-11',\n",
       "       '2020-02-12', '2020-02-13', '2020-02-14', '2020-02-15', '2020-02-16',\n",
       "       '2020-02-17', '2020-02-18', '2020-02-19', '2020-02-20', '2020-02-21',\n",
       "       '2020-02-22', '2020-02-23', '2020-02-24', '2020-02-25', '2020-02-26',\n",
       "       '2020-02-27', '2020-02-28', '2020-02-29', '2020-03-01', '2020-03-02',\n",
       "       '2020-03-03', '2020-03-04', '2020-03-05', '2020-03-06', '2020-03-07',\n",
       "       '2020-03-08', '2020-03-09', '2020-03-10', '2020-03-11', '2020-03-12',\n",
       "       '2020-03-13', '2020-03-14', '2020-03-15', '2020-03-16', '2020-03-17',\n",
       "       '2020-03-18', '2020-03-19', '2020-03-20', '2020-03-21', '2020-03-22',\n",
       "       '2020-03-23', '2020-03-24', '2020-03-25', '2020-03-26', '2020-03-27',\n",
       "       '2020-03-28', '2020-03-29', '2020-03-30', '2020-03-31', '2020-04-01',\n",
       "       '2020-04-02', '2020-04-03', '2020-04-04', '2020-04-05', '2020-04-06',\n",
       "       '2020-04-07', '2020-04-08', '2020-04-09', '2020-04-10', '2020-04-11',\n",
       "       '2020-04-12', '2020-04-13', '2020-04-14', '2020-04-15', '2020-04-16'],\n",
       "      dtype='object')"
      ]
     },
     "execution_count": 32,
     "metadata": {},
     "output_type": "execute_result"
    }
   ],
   "source": [
    "df.columns[3:]"
   ]
  },
  {
   "cell_type": "code",
   "execution_count": 33,
   "metadata": {},
   "outputs": [
    {
     "name": "stderr",
     "output_type": "stream",
     "text": [
      "C:\\Users\\samantha.ettinger\\Anaconda3\\lib\\site-packages\\ipykernel_launcher.py:8: SettingWithCopyWarning: \n",
      "A value is trying to be set on a copy of a slice from a DataFrame.\n",
      "Try using .loc[row_indexer,col_indexer] = value instead\n",
      "\n",
      "See the caveats in the documentation: http://pandas.pydata.org/pandas-docs/stable/user_guide/indexing.html#returning-a-view-versus-a-copy\n",
      "  \n"
     ]
    }
   ],
   "source": [
    "final_list=[]\n",
    "for col in df.columns[3:]:\n",
    "    df_sub=df[['geo_type','region','transportation_type',col]]\n",
    "    dt=[]\n",
    "    for i in range(0,len(df_sub)):\n",
    "        dt.append(col)\n",
    "\n",
    "    df_sub['date']=dt\n",
    "    #df_sub['date']=[col for i in range(0,len(df))]\n",
    "    final_list.append(df_sub.rename(columns={col:'score'}))\n",
    "    \n",
    "    \n",
    "    "
   ]
  },
  {
   "cell_type": "code",
   "execution_count": 38,
   "metadata": {},
   "outputs": [],
   "source": [
    "final=pd.concat(final_list)"
   ]
  },
  {
   "cell_type": "code",
   "execution_count": 39,
   "metadata": {},
   "outputs": [],
   "source": [
    "\n",
    "#import data to postgresql"
   ]
  },
  {
   "cell_type": "code",
   "execution_count": 40,
   "metadata": {},
   "outputs": [],
   "source": [
    "\n",
    "rds_connection_string = f\"{user}:{password}@localhost:5432/mobility_db\"\n",
    "engine = create_engine(f'postgresql://{rds_connection_string}')"
   ]
  },
  {
   "cell_type": "code",
   "execution_count": 41,
   "metadata": {},
   "outputs": [
    {
     "data": {
      "text/plain": [
       "[]"
      ]
     },
     "execution_count": 41,
     "metadata": {},
     "output_type": "execute_result"
    }
   ],
   "source": [
    "engine.table_names()"
   ]
  },
  {
   "cell_type": "code",
   "execution_count": 42,
   "metadata": {},
   "outputs": [],
   "source": [
    "final.to_sql(name='mobility', con=engine, if_exists='append', index=False)"
   ]
  },
  {
   "cell_type": "code",
   "execution_count": 20,
   "metadata": {
    "scrolled": true
   },
   "outputs": [],
   "source": [
    "# dt=[]\n",
    "# for i in range(0,len(df_sub)):\n",
    "#     dt.append('2020-01-13')"
   ]
  },
  {
   "cell_type": "code",
   "execution_count": 21,
   "metadata": {},
   "outputs": [],
   "source": [
    "# df_sub['date']=dt"
   ]
  },
  {
   "cell_type": "code",
   "execution_count": 22,
   "metadata": {},
   "outputs": [],
   "source": [
    "# df_sub.head()"
   ]
  },
  {
   "cell_type": "code",
   "execution_count": 23,
   "metadata": {},
   "outputs": [],
   "source": [
    "# df_sub.rename(columns={'2020-01-13':'score'})"
   ]
  },
  {
   "cell_type": "code",
   "execution_count": null,
   "metadata": {},
   "outputs": [],
   "source": []
  },
  {
   "cell_type": "code",
   "execution_count": null,
   "metadata": {},
   "outputs": [],
   "source": []
  }
 ],
 "metadata": {
  "kernelspec": {
   "display_name": "Python 3",
   "language": "python",
   "name": "python3"
  },
  "language_info": {
   "codemirror_mode": {
    "name": "ipython",
    "version": 3
   },
   "file_extension": ".py",
   "mimetype": "text/x-python",
   "name": "python",
   "nbconvert_exporter": "python",
   "pygments_lexer": "ipython3",
   "version": "3.7.4"
  }
 },
 "nbformat": 4,
 "nbformat_minor": 4
}
